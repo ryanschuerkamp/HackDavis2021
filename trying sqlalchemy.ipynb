{
 "cells": [
  {
   "cell_type": "code",
   "execution_count": 1,
   "metadata": {},
   "outputs": [
    {
     "name": "stdout",
     "output_type": "stream",
     "text": [
      "Collecting pony\n",
      "  Downloading pony-0.7.14.tar.gz (290 kB)\n",
      "Building wheels for collected packages: pony\n",
      "  Building wheel for pony (setup.py): started\n",
      "  Building wheel for pony (setup.py): finished with status 'done'\n",
      "  Created wheel for pony: filename=pony-0.7.14-py3-none-any.whl size=351283 sha256=dc034689d67161c0a41a8f941dd9bd5cce46e06b94ba8bd0a01014d14b187edc\n",
      "  Stored in directory: c:\\users\\anast\\appdata\\local\\pip\\cache\\wheels\\2d\\b3\\a9\\81748d9c5bc350f169663cae2b7a2b7549c020ea694c7e839e\n",
      "Successfully built pony\n",
      "Installing collected packages: pony\n",
      "Successfully installed pony-0.7.14\n",
      "Note: you may need to restart the kernel to use updated packages.\n"
     ]
    }
   ],
   "source": []
  },
  {
   "cell_type": "code",
   "execution_count": 1,
   "metadata": {},
   "outputs": [],
   "source": [
    "from pony.orm import *"
   ]
  },
  {
   "cell_type": "code",
   "execution_count": 2,
   "metadata": {},
   "outputs": [],
   "source": [
    "db = Database()\n",
    "\n",
    "wings = {'EW':'East Wing','SW': 'South Wing', 'WW': 'West Wing', 'NW':'North Wing'}\n",
    "\n",
    "# create a Patient entity\n",
    "class Patient(db.Entity):\n",
    "    name = Required(str)\n",
    "    age = Required(int)\n",
    "    stay = Required(int)\n",
    "    location = Optional('Room')\n",
    "    condition = Required(str)\n",
    "    visits = Required(bool)\n",
    "    \n",
    "\n",
    "\n",
    "    \n",
    "    \n",
    "\n",
    "    \n",
    "    \n",
    "\n",
    "# create a room Entity\n",
    "class Room(db.Entity):\n",
    "    number = Required(int)\n",
    "    wing = Required(str)\n",
    "    patients = Set(Patient)\n",
    "    building = Optional('Hospital')\n",
    "    \n",
    "\n",
    "class Hospital(db.Entity):\n",
    "    rooms = Set(Room)\n",
    "    \n",
    "\n",
    "db.bind(provider='sqlite', filename=':memory:')\n",
    "\n",
    "db.generate_mapping(create_tables=True)"
   ]
  },
  {
   "cell_type": "code",
   "execution_count": 10,
   "metadata": {},
   "outputs": [],
   "source": [
    "r1 =Room(number=2,wing='EW')"
   ]
  },
  {
   "cell_type": "code",
   "execution_count": 11,
   "metadata": {},
   "outputs": [],
   "source": [
    "\n",
    "\n",
    "p1 = Patient(name = 'paula',age = 60, stay = 26,location = r1,condition='ill',visits = True)"
   ]
  },
  {
   "cell_type": "code",
   "execution_count": 28,
   "metadata": {},
   "outputs": [
    {
     "name": "stdout",
     "output_type": "stream",
     "text": [
      "id|name    |age|stay|location|condition|visits\n",
      "--+--------+---+----+--------+---------+------\n",
      "1 |paula   |60 |26  |Room[1] |ill      |True  \n",
      "2 |paul    |57 |16  |Room[10]|ill      |True  \n",
      "3 |minerva |58 |16  |Room[27]|ill      |True  \n",
      "4 |emma    |59 |16  |Room[42]|ill      |True  \n",
      "5 |jemima  |60 |16  |Room[11]|ill      |True  \n",
      "6 |ray     |61 |16  |Room[28]|ill      |True  \n",
      "7 |donna   |62 |16  |Room[12]|ill      |True  \n",
      "8 |gilbert |63 |16  |Room[29]|ill      |True  \n",
      "9 |lewis   |64 |16  |Room[13]|ill      |True  \n",
      "10|norman  |65 |16  |Room[30]|ill      |True  \n",
      "11|conard  |66 |16  |Room[14]|ill      |True  \n",
      "12|john    |67 |16  |Room[31]|ill      |True  \n",
      "13|peter   |68 |16  |Room[15]|ill      |True  \n",
      "14|isabella|69 |16  |Room[32]|ill      |True  \n",
      "15|phil    |70 |16  |Room[16]|ill      |True  \n",
      "16|leslie  |71 |16  |Room[33]|ill      |True  \n"
     ]
    }
   ],
   "source": [
    "Patient.select().show()"
   ]
  },
  {
   "cell_type": "code",
   "execution_count": 14,
   "metadata": {},
   "outputs": [],
   "source": [
    "River_Hospital = Hospital()\n",
    "\n",
    "for x in range(10):\n",
    "    for y in wings:\n",
    "        created_room = Room(number=x, wing = y)\n",
    "        River_Hospital.rooms.add(created_room)"
   ]
  },
  {
   "cell_type": "code",
   "execution_count": 22,
   "metadata": {},
   "outputs": [
    {
     "ename": "TypeError",
     "evalue": "'RoomSet' object is not subscriptable",
     "output_type": "error",
     "traceback": [
      "\u001b[1;31m---------------------------------------------------------------------------\u001b[0m",
      "\u001b[1;31mTypeError\u001b[0m                                 Traceback (most recent call last)",
      "\u001b[1;32m<ipython-input-22-c18349378d70>\u001b[0m in \u001b[0;36m<module>\u001b[1;34m\u001b[0m\n\u001b[1;32m----> 1\u001b[1;33m \u001b[0mRiver_Hospital\u001b[0m\u001b[1;33m.\u001b[0m\u001b[0mrooms\u001b[0m\u001b[1;33m[\u001b[0m\u001b[1;36m0\u001b[0m\u001b[1;33m]\u001b[0m\u001b[1;33m\u001b[0m\u001b[1;33m\u001b[0m\u001b[0m\n\u001b[0m",
      "\u001b[1;31mTypeError\u001b[0m: 'RoomSet' object is not subscriptable"
     ]
    }
   ],
   "source": [
    "River_Hospital.rooms"
   ]
  },
  {
   "cell_type": "code",
   "execution_count": 24,
   "metadata": {},
   "outputs": [
    {
     "name": "stdout",
     "output_type": "stream",
     "text": [
      "id|number|wing|building   \n",
      "--+------+----+-----------\n",
      "1 |2     |EW  |None       \n",
      "2 |0     |EW  |None       \n",
      "3 |0     |EW  |Hospital[1]\n",
      "4 |0     |SW  |Hospital[1]\n",
      "5 |0     |WW  |Hospital[1]\n",
      "6 |0     |NW  |Hospital[1]\n",
      "7 |1     |EW  |Hospital[1]\n",
      "8 |1     |SW  |Hospital[1]\n",
      "9 |1     |WW  |Hospital[1]\n",
      "10|1     |NW  |Hospital[1]\n",
      "11|2     |EW  |Hospital[1]\n",
      "12|2     |SW  |Hospital[1]\n",
      "13|2     |WW  |Hospital[1]\n",
      "14|2     |NW  |Hospital[1]\n",
      "15|3     |EW  |Hospital[1]\n",
      "16|3     |SW  |Hospital[1]\n",
      "17|3     |WW  |Hospital[1]\n",
      "18|3     |NW  |Hospital[1]\n",
      "19|4     |EW  |Hospital[1]\n",
      "20|4     |SW  |Hospital[1]\n",
      "21|4     |WW  |Hospital[1]\n",
      "22|4     |NW  |Hospital[1]\n",
      "23|5     |EW  |Hospital[1]\n",
      "24|5     |SW  |Hospital[1]\n",
      "25|5     |WW  |Hospital[1]\n",
      "26|5     |NW  |Hospital[1]\n",
      "27|6     |EW  |Hospital[1]\n",
      "28|6     |SW  |Hospital[1]\n",
      "29|6     |WW  |Hospital[1]\n",
      "30|6     |NW  |Hospital[1]\n",
      "31|7     |EW  |Hospital[1]\n",
      "32|7     |SW  |Hospital[1]\n",
      "33|7     |WW  |Hospital[1]\n",
      "34|7     |NW  |Hospital[1]\n",
      "35|8     |EW  |Hospital[1]\n",
      "36|8     |SW  |Hospital[1]\n",
      "37|8     |WW  |Hospital[1]\n",
      "38|8     |NW  |Hospital[1]\n",
      "39|9     |EW  |Hospital[1]\n",
      "40|9     |SW  |Hospital[1]\n",
      "41|9     |WW  |Hospital[1]\n",
      "42|9     |NW  |Hospital[1]\n"
     ]
    }
   ],
   "source": [
    "Room.select().show()"
   ]
  },
  {
   "cell_type": "code",
   "execution_count": 18,
   "metadata": {},
   "outputs": [],
   "source": [
    "sep = ','\n",
    "with open('patients.csv','r') as f:\n",
    "    f.readline()\n",
    "    patient_list = []\n",
    "    for x in f:\n",
    "        x = x.strip().split(sep)\n",
    "        name = x[0]\n",
    "        age = int(x[1])\n",
    "        stay = int(x[2])\n",
    "#         condition = x[3]\n",
    "        patient_list.append(Patient(name=name,age=age,stay=stay,condition='ill',visits=True))"
   ]
  },
  {
   "cell_type": "code",
   "execution_count": 27,
   "metadata": {},
   "outputs": [],
   "source": [
    "i = 0\n",
    "for x in patient_list:\n",
    "    x.location = list(River_Hospital.rooms)[i]\n",
    "    i+= 1"
   ]
  },
  {
   "cell_type": "code",
   "execution_count": null,
   "metadata": {},
   "outputs": [],
   "source": []
  },
  {
   "cell_type": "code",
   "execution_count": null,
   "metadata": {},
   "outputs": [],
   "source": []
  }
 ],
 "metadata": {
  "kernelspec": {
   "display_name": "Python 3",
   "language": "python",
   "name": "python3"
  },
  "language_info": {
   "codemirror_mode": {
    "name": "ipython",
    "version": 3
   },
   "file_extension": ".py",
   "mimetype": "text/x-python",
   "name": "python",
   "nbconvert_exporter": "python",
   "pygments_lexer": "ipython3",
   "version": "3.8.3"
  }
 },
 "nbformat": 4,
 "nbformat_minor": 4
}
