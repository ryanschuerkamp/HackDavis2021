{
 "cells": [
  {
   "cell_type": "code",
   "execution_count": 1,
   "metadata": {},
   "outputs": [
    {
     "name": "stdout",
     "output_type": "stream",
     "text": [
      "Requirement already satisfied: pony in /opt/anaconda3/lib/python3.8/site-packages (0.7.14)\n",
      "Note: you may need to restart the kernel to use updated packages.\n"
     ]
    }
   ],
   "source": [
    "pip install pony"
   ]
  },
  {
   "cell_type": "code",
   "execution_count": 2,
   "metadata": {},
   "outputs": [],
   "source": [
    "from pony.orm import *"
   ]
  },
  {
   "cell_type": "code",
   "execution_count": 3,
   "metadata": {},
   "outputs": [],
   "source": [
    "db = Database()\n",
    "\n",
    "wings = {'EW':'East Wing','SW': 'South Wing', 'WW': 'West Wing', 'NW':'North Wing'}\n",
    "\n",
    "# create a Patient entity\n",
    "class Patient(db.Entity):\n",
    "    name = Required(str)\n",
    "    age = Required(int)\n",
    "    stay = Required(int)\n",
    "    location = Optional('Room')\n",
    "    condition = Required(str)\n",
    "    visits = Required(bool)\n",
    "    \n",
    "\n",
    "\n",
    "    \n",
    "    \n",
    "\n",
    "    \n",
    "    \n",
    "\n",
    "# create a room Entity\n",
    "class Room(db.Entity):\n",
    "    number = Required(int)\n",
    "    wing = Required(str)\n",
    "    patients = Set(Patient)\n",
    "    building = Optional('Hospital')\n",
    "    \n",
    "\n",
    "class Hospital(db.Entity):\n",
    "    rooms = Set(Room)\n",
    "    \n",
    "\n",
    "db.bind(provider='sqlite', filename=':memory:')\n",
    "\n",
    "db.generate_mapping(create_tables=True)"
   ]
  },
  {
   "cell_type": "code",
   "execution_count": 4,
   "metadata": {},
   "outputs": [],
   "source": [
    "r1 =Room(number=2,wing='EW')"
   ]
  },
  {
   "cell_type": "code",
   "execution_count": 5,
   "metadata": {},
   "outputs": [],
   "source": [
    "\n",
    "\n",
    "p1 = Patient(name = 'paula',age = 60, stay = 26,location = r1,condition='ill',visits = True)"
   ]
  },
  {
   "cell_type": "code",
   "execution_count": 6,
   "metadata": {},
   "outputs": [
    {
     "name": "stdout",
     "output_type": "stream",
     "text": [
      "id|name |age|stay|location|condition|visits\n",
      "--+-----+---+----+--------+---------+------\n",
      "1 |paula|60 |26  |Room[1] |ill      |True  \n"
     ]
    }
   ],
   "source": [
    "Patient.select().show()"
   ]
  },
  {
   "cell_type": "code",
   "execution_count": 7,
   "metadata": {},
   "outputs": [],
   "source": [
    "River_Hospital = Hospital()\n",
    "\n",
    "for x in range(10):\n",
    "    for y in wings:\n",
    "        created_room = Room(number=x, wing = y)\n",
    "        River_Hospital.rooms.add(created_room)"
   ]
  },
  {
   "cell_type": "code",
   "execution_count": 8,
   "metadata": {},
   "outputs": [
    {
     "data": {
      "text/plain": [
       "<RoomSet Hospital[new:3].rooms>"
      ]
     },
     "execution_count": 8,
     "metadata": {},
     "output_type": "execute_result"
    }
   ],
   "source": [
    "River_Hospital.rooms"
   ]
  },
  {
   "cell_type": "code",
   "execution_count": 9,
   "metadata": {},
   "outputs": [
    {
     "name": "stdout",
     "output_type": "stream",
     "text": [
      "id|number|wing|building   \n",
      "--+------+----+-----------\n",
      "1 |2     |EW  |None       \n",
      "2 |0     |EW  |Hospital[1]\n",
      "3 |0     |SW  |Hospital[1]\n",
      "4 |0     |WW  |Hospital[1]\n",
      "5 |0     |NW  |Hospital[1]\n",
      "6 |1     |EW  |Hospital[1]\n",
      "7 |1     |SW  |Hospital[1]\n",
      "8 |1     |WW  |Hospital[1]\n",
      "9 |1     |NW  |Hospital[1]\n",
      "10|2     |EW  |Hospital[1]\n",
      "11|2     |SW  |Hospital[1]\n",
      "12|2     |WW  |Hospital[1]\n",
      "13|2     |NW  |Hospital[1]\n",
      "14|3     |EW  |Hospital[1]\n",
      "15|3     |SW  |Hospital[1]\n",
      "16|3     |WW  |Hospital[1]\n",
      "17|3     |NW  |Hospital[1]\n",
      "18|4     |EW  |Hospital[1]\n",
      "19|4     |SW  |Hospital[1]\n",
      "20|4     |WW  |Hospital[1]\n",
      "21|4     |NW  |Hospital[1]\n",
      "22|5     |EW  |Hospital[1]\n",
      "23|5     |SW  |Hospital[1]\n",
      "24|5     |WW  |Hospital[1]\n",
      "25|5     |NW  |Hospital[1]\n",
      "26|6     |EW  |Hospital[1]\n",
      "27|6     |SW  |Hospital[1]\n",
      "28|6     |WW  |Hospital[1]\n",
      "29|6     |NW  |Hospital[1]\n",
      "30|7     |EW  |Hospital[1]\n",
      "31|7     |SW  |Hospital[1]\n",
      "32|7     |WW  |Hospital[1]\n",
      "33|7     |NW  |Hospital[1]\n",
      "34|8     |EW  |Hospital[1]\n",
      "35|8     |SW  |Hospital[1]\n",
      "36|8     |WW  |Hospital[1]\n",
      "37|8     |NW  |Hospital[1]\n",
      "38|9     |EW  |Hospital[1]\n",
      "39|9     |SW  |Hospital[1]\n",
      "40|9     |WW  |Hospital[1]\n",
      "41|9     |NW  |Hospital[1]\n"
     ]
    }
   ],
   "source": [
    "Room.select().show()"
   ]
  },
  {
   "cell_type": "code",
   "execution_count": 10,
   "metadata": {},
   "outputs": [],
   "source": [
    "sep = ','\n",
    "with open('patients.csv','r') as f:\n",
    "    f.readline()\n",
    "    patient_list = []\n",
    "    for x in f:\n",
    "        x = x.strip().split(sep)\n",
    "        name = x[0]\n",
    "        age = int(x[1])\n",
    "        stay = int(x[2])\n",
    "#         condition = x[3]\n",
    "        patient_list.append(Patient(name=name,age=age,stay=stay,condition='ill',visits=True))"
   ]
  },
  {
   "cell_type": "code",
   "execution_count": 11,
   "metadata": {},
   "outputs": [],
   "source": [
    "i = 0\n",
    "for x in patient_list:\n",
    "    x.location = list(River_Hospital.rooms)[i]\n",
    "    i+= 1"
   ]
  },
  {
   "cell_type": "code",
   "execution_count": 12,
   "metadata": {},
   "outputs": [],
   "source": [
    "import numpy as np\n",
    "import pandas as pd"
   ]
  },
  {
   "cell_type": "code",
   "execution_count": 14,
   "metadata": {},
   "outputs": [
    {
     "data": {
      "text/html": [
       "<div>\n",
       "<style scoped>\n",
       "    .dataframe tbody tr th:only-of-type {\n",
       "        vertical-align: middle;\n",
       "    }\n",
       "\n",
       "    .dataframe tbody tr th {\n",
       "        vertical-align: top;\n",
       "    }\n",
       "\n",
       "    .dataframe thead th {\n",
       "        text-align: right;\n",
       "    }\n",
       "</style>\n",
       "<table border=\"1\" class=\"dataframe\">\n",
       "  <thead>\n",
       "    <tr style=\"text-align: right;\">\n",
       "      <th></th>\n",
       "      <th>name</th>\n",
       "      <th>age</th>\n",
       "      <th>stay</th>\n",
       "      <th>condition</th>\n",
       "    </tr>\n",
       "  </thead>\n",
       "  <tbody>\n",
       "    <tr>\n",
       "      <th>0</th>\n",
       "      <td>paul</td>\n",
       "      <td>57</td>\n",
       "      <td>16</td>\n",
       "      <td>illness</td>\n",
       "    </tr>\n",
       "    <tr>\n",
       "      <th>1</th>\n",
       "      <td>minerva</td>\n",
       "      <td>58</td>\n",
       "      <td>16</td>\n",
       "      <td>illness</td>\n",
       "    </tr>\n",
       "    <tr>\n",
       "      <th>2</th>\n",
       "      <td>emma</td>\n",
       "      <td>59</td>\n",
       "      <td>16</td>\n",
       "      <td>illness</td>\n",
       "    </tr>\n",
       "    <tr>\n",
       "      <th>3</th>\n",
       "      <td>jemima</td>\n",
       "      <td>60</td>\n",
       "      <td>16</td>\n",
       "      <td>illness</td>\n",
       "    </tr>\n",
       "    <tr>\n",
       "      <th>4</th>\n",
       "      <td>ray</td>\n",
       "      <td>61</td>\n",
       "      <td>16</td>\n",
       "      <td>illness</td>\n",
       "    </tr>\n",
       "    <tr>\n",
       "      <th>5</th>\n",
       "      <td>donna</td>\n",
       "      <td>62</td>\n",
       "      <td>16</td>\n",
       "      <td>illness</td>\n",
       "    </tr>\n",
       "    <tr>\n",
       "      <th>6</th>\n",
       "      <td>gilbert</td>\n",
       "      <td>63</td>\n",
       "      <td>16</td>\n",
       "      <td>illness</td>\n",
       "    </tr>\n",
       "    <tr>\n",
       "      <th>7</th>\n",
       "      <td>lewis</td>\n",
       "      <td>64</td>\n",
       "      <td>16</td>\n",
       "      <td>illness</td>\n",
       "    </tr>\n",
       "    <tr>\n",
       "      <th>8</th>\n",
       "      <td>norman</td>\n",
       "      <td>65</td>\n",
       "      <td>16</td>\n",
       "      <td>illness</td>\n",
       "    </tr>\n",
       "    <tr>\n",
       "      <th>9</th>\n",
       "      <td>conard</td>\n",
       "      <td>66</td>\n",
       "      <td>16</td>\n",
       "      <td>illness</td>\n",
       "    </tr>\n",
       "    <tr>\n",
       "      <th>10</th>\n",
       "      <td>john</td>\n",
       "      <td>67</td>\n",
       "      <td>16</td>\n",
       "      <td>illness</td>\n",
       "    </tr>\n",
       "    <tr>\n",
       "      <th>11</th>\n",
       "      <td>peter</td>\n",
       "      <td>68</td>\n",
       "      <td>16</td>\n",
       "      <td>illness</td>\n",
       "    </tr>\n",
       "    <tr>\n",
       "      <th>12</th>\n",
       "      <td>isabella</td>\n",
       "      <td>69</td>\n",
       "      <td>16</td>\n",
       "      <td>illness</td>\n",
       "    </tr>\n",
       "    <tr>\n",
       "      <th>13</th>\n",
       "      <td>phil</td>\n",
       "      <td>70</td>\n",
       "      <td>16</td>\n",
       "      <td>illness</td>\n",
       "    </tr>\n",
       "    <tr>\n",
       "      <th>14</th>\n",
       "      <td>leslie</td>\n",
       "      <td>71</td>\n",
       "      <td>16</td>\n",
       "      <td>illness</td>\n",
       "    </tr>\n",
       "  </tbody>\n",
       "</table>\n",
       "</div>"
      ],
      "text/plain": [
       "        name  age  stay condition\n",
       "0       paul   57    16   illness\n",
       "1    minerva   58    16   illness\n",
       "2       emma   59    16   illness\n",
       "3     jemima   60    16   illness\n",
       "4        ray   61    16   illness\n",
       "5      donna   62    16   illness\n",
       "6    gilbert   63    16   illness\n",
       "7      lewis   64    16   illness\n",
       "8     norman   65    16   illness\n",
       "9     conard   66    16   illness\n",
       "10      john   67    16   illness\n",
       "11     peter   68    16   illness\n",
       "12  isabella   69    16   illness\n",
       "13      phil   70    16   illness\n",
       "14    leslie   71    16   illness"
      ]
     },
     "execution_count": 14,
     "metadata": {},
     "output_type": "execute_result"
    }
   ],
   "source": [
    "df = pd.read_csv('patients.csv')\n",
    "df"
   ]
  },
  {
   "cell_type": "code",
   "execution_count": null,
   "metadata": {},
   "outputs": [],
   "source": []
  }
 ],
 "metadata": {
  "kernelspec": {
   "display_name": "Python 3",
   "language": "python",
   "name": "python3"
  }
 },
 "nbformat": 4,
 "nbformat_minor": 4
}
